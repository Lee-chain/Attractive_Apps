{
 "cells": [
  {
   "cell_type": "markdown",
   "metadata": {},
   "source": [
    "# Attractive Apps\n",
    "\n",
    "Most developers only build apps that are free to download and install, and typically, their main source of revenue consists of in-app ads. This means their revenue for any given app is mostly influenced by the number of users (specifically for English-speaking users) who use their apps— the more users that see and engage with the ads, the better. \n",
    "\n",
    "The goal for this project is to analyze data to help developers understand what type of apps are likely to attract more users on [Google Play](https://dq-content.s3.amazonaws.com/350/googleplaystore.csv) and [App Store](https://dq-content.s3.amazonaws.com/350/AppleStore.csv). A documentation of the column names are available [here for Google](https://www.kaggle.com/lava18/google-play-store-apps) and [here for Apple](https://www.kaggle.com/ramamet4/app-store-apple-data-set-10k-apps)."
   ]
  },
  {
   "cell_type": "code",
   "execution_count": 1,
   "metadata": {},
   "outputs": [],
   "source": [
    "opened_file_apple = open('AppleStore.csv')\n",
    "opened_file_google = open('googleplaystore.csv')\n",
    "\n",
    "from csv import reader\n",
    "read_file_apple = reader(opened_file_apple)\n",
    "read_file_google = reader(opened_file_google)\n",
    "\n",
    "apple_apps_data = list(read_file_apple)\n",
    "google_apps_data = list(read_file_google)"
   ]
  },
  {
   "cell_type": "code",
   "execution_count": 2,
   "metadata": {},
   "outputs": [],
   "source": [
    "def explore_data(dataset, start, end, rows_and_columns=False):\n",
    "    dataset_slice = dataset[start:end]    \n",
    "    for row in dataset_slice:\n",
    "        print(row)\n",
    "        print('\\n') # adds a new (empty) line after each row\n",
    "\n",
    "    if rows_and_columns:\n",
    "        print('Number of rows:', len(dataset))\n",
    "        print('Number of columns:', len(dataset[0]))"
   ]
  },
  {
   "cell_type": "code",
   "execution_count": 3,
   "metadata": {},
   "outputs": [
    {
     "name": "stdout",
     "output_type": "stream",
     "text": [
      "['id', 'track_name', 'size_bytes', 'currency', 'price', 'rating_count_tot', 'rating_count_ver', 'user_rating', 'user_rating_ver', 'ver', 'cont_rating', 'prime_genre', 'sup_devices.num', 'ipadSc_urls.num', 'lang.num', 'vpp_lic']\n",
      "\n",
      "\n",
      "['284882215', 'Facebook', '389879808', 'USD', '0.0', '2974676', '212', '3.5', '3.5', '95.0', '4+', 'Social Networking', '37', '1', '29', '1']\n",
      "\n",
      "\n",
      "['389801252', 'Instagram', '113954816', 'USD', '0.0', '2161558', '1289', '4.5', '4.0', '10.23', '12+', 'Photo & Video', '37', '0', '29', '1']\n",
      "\n",
      "\n",
      "['529479190', 'Clash of Clans', '116476928', 'USD', '0.0', '2130805', '579', '4.5', '4.5', '9.24.12', '9+', 'Games', '38', '5', '18', '1']\n",
      "\n",
      "\n",
      "['420009108', 'Temple Run', '65921024', 'USD', '0.0', '1724546', '3842', '4.5', '4.0', '1.6.2', '9+', 'Games', '40', '5', '1', '1']\n",
      "\n",
      "\n",
      "Number of rows: 7198\n",
      "Number of columns: 16\n"
     ]
    }
   ],
   "source": [
    "explore_data(apple_apps_data,0,5, True)"
   ]
  },
  {
   "cell_type": "code",
   "execution_count": 7,
   "metadata": {},
   "outputs": [
    {
     "name": "stdout",
     "output_type": "stream",
     "text": [
      "['App', 'Category', 'Rating', 'Reviews', 'Size', 'Installs', 'Type', 'Price', 'Content Rating', 'Genres', 'Last Updated', 'Current Ver', 'Android Ver']\n",
      "\n",
      "\n",
      "['Photo Editor & Candy Camera & Grid & ScrapBook', 'ART_AND_DESIGN', '4.1', '159', '19M', '10,000+', 'Free', '0', 'Everyone', 'Art & Design', 'January 7, 2018', '1.0.0', '4.0.3 and up']\n",
      "\n",
      "\n",
      "['Coloring book moana', 'ART_AND_DESIGN', '3.9', '967', '14M', '500,000+', 'Free', '0', 'Everyone', 'Art & Design;Pretend Play', 'January 15, 2018', '2.0.0', '4.0.3 and up']\n",
      "\n",
      "\n",
      "['U Launcher Lite – FREE Live Cool Themes, Hide Apps', 'ART_AND_DESIGN', '4.7', '87510', '8.7M', '5,000,000+', 'Free', '0', 'Everyone', 'Art & Design', 'August 1, 2018', '1.2.4', '4.0.3 and up']\n",
      "\n",
      "\n",
      "['Sketch - Draw & Paint', 'ART_AND_DESIGN', '4.5', '215644', '25M', '50,000,000+', 'Free', '0', 'Teen', 'Art & Design', 'June 8, 2018', 'Varies with device', '4.2 and up']\n",
      "\n",
      "\n"
     ]
    }
   ],
   "source": [
    "explore_data(google_apps_data,0,5, True)"
   ]
  },
  {
   "cell_type": "markdown",
   "metadata": {},
   "source": [
    "The code below was used to locate rows that have errors. \n",
    "In this case the value in 'Category' was not showing for this row"
   ]
  },
  {
   "cell_type": "code",
   "execution_count": 9,
   "metadata": {},
   "outputs": [
    {
     "name": "stdout",
     "output_type": "stream",
     "text": [
      "['Life Made WI-Fi Touchscreen Photo Frame', '1.9', '19', '3.0M', '1,000+', 'Free', '0', 'Everyone', '', 'February 11, 2018', '1.0.19', '4.0 and up']\n",
      "\n",
      "\n",
      "['App', 'Category', 'Rating', 'Reviews', 'Size', 'Installs', 'Type', 'Price', 'Content Rating', 'Genres', 'Last Updated', 'Current Ver', 'Android Ver']\n",
      "10473\n"
     ]
    }
   ],
   "source": [
    "for row in google_apps_data:\n",
    "    if len(row) != len(google_apps_data[0]):\n",
    "        print (row)\n",
    "        print('\\n')\n",
    "        print (google_apps_data[0])\n",
    "        print (google_apps_data.index(row)) # This identifies the index"
   ]
  },
  {
   "cell_type": "markdown",
   "metadata": {},
   "source": [
    "Below, the function \"del\" was used to remove the row with the error. \n",
    "**Do not run twice**"
   ]
  },
  {
   "cell_type": "code",
   "execution_count": 10,
   "metadata": {},
   "outputs": [
    {
     "name": "stdout",
     "output_type": "stream",
     "text": [
      "['osmino Wi-Fi: free WiFi', 'TOOLS', '4.2', '134203', '4.1M', '10,000,000+', 'Free', '0', 'Everyone', 'Tools', 'August 7, 2018', '6.06.14', '4.4 and up']\n"
     ]
    }
   ],
   "source": [
    "# del google_apps_data[10473]\n",
    "# print (google_apps_data[10473])"
   ]
  },
  {
   "cell_type": "markdown",
   "metadata": {},
   "source": [
    "The code below allows us to check for **duplicates** with the data."
   ]
  },
  {
   "cell_type": "code",
   "execution_count": 11,
   "metadata": {},
   "outputs": [
    {
     "name": "stdout",
     "output_type": "stream",
     "text": [
      "The number of duplicate:  1181 ['Quick PDF Scanner + OCR FREE', 'Box', 'Google My Business', 'ZOOM Cloud Meetings', 'join.me - Simple Meetings', 'Box', 'Zenefits', 'Google Ads', 'Google My Business', 'Slack', 'FreshBooks Classic', 'Insightly CRM', 'QuickBooks Accounting: Invoicing & Expenses', 'HipChat - Chat Built for Teams', 'Xero Accounting Software']\n",
      "\n",
      "\n",
      "Unique apps:  ['App', 'Photo Editor & Candy Camera & Grid & ScrapBook', 'Coloring book moana', 'U Launcher Lite – FREE Live Cool Themes, Hide Apps', 'Sketch - Draw & Paint', 'Pixel Draw - Number Art Coloring Book', 'Paper flowers instructions', 'Smoke Effect Photo Maker - Smoke Editor', 'Infinite Painter', 'Garden Coloring Book', 'Kids Paint Free - Drawing Fun', 'Text on Photo - Fonteee', 'Name Art Photo Editor - Focus n Filters', 'Tattoo Name On My Photo Editor', 'Mandala Coloring Book']\n"
     ]
    }
   ],
   "source": [
    "duplicate = []\n",
    "unique = []\n",
    "\n",
    "for apps in google_apps_data:\n",
    "    name = apps[0]\n",
    "    if name in unique:\n",
    "        duplicate.append(name)\n",
    "    else:\n",
    "        unique.append(name)\n",
    "\n",
    "print(\"The number of duplicate: \", len(duplicate), duplicate[:15])\n",
    "print('\\n')\n",
    "print(\"Unique apps: \", unique[:15])"
   ]
  },
  {
   "cell_type": "markdown",
   "metadata": {},
   "source": [
    "The app name Instagram was used to check how many instagram duplicates are present.\n",
    "\n",
    "Looking closely, specifically at the fourth position, which represents the rating. We can see that the values for ratings are different. We can remove the duplicates randomly but with the different rating values we can use this to clear duplicates and leave only the ones with the highest rating."
   ]
  },
  {
   "cell_type": "code",
   "execution_count": 12,
   "metadata": {},
   "outputs": [
    {
     "name": "stdout",
     "output_type": "stream",
     "text": [
      "['Instagram', 'SOCIAL', '4.5', '66577313', 'Varies with device', '1,000,000,000+', 'Free', '0', 'Teen', 'Social', 'July 31, 2018', 'Varies with device', 'Varies with device']\n",
      "2546\n",
      "\n",
      "\n",
      "['Instagram', 'SOCIAL', '4.5', '66577446', 'Varies with device', '1,000,000,000+', 'Free', '0', 'Teen', 'Social', 'July 31, 2018', 'Varies with device', 'Varies with device']\n",
      "2605\n",
      "\n",
      "\n",
      "['Instagram', 'SOCIAL', '4.5', '66577313', 'Varies with device', '1,000,000,000+', 'Free', '0', 'Teen', 'Social', 'July 31, 2018', 'Varies with device', 'Varies with device']\n",
      "2546\n",
      "\n",
      "\n",
      "['Instagram', 'SOCIAL', '4.5', '66509917', 'Varies with device', '1,000,000,000+', 'Free', '0', 'Teen', 'Social', 'July 31, 2018', 'Varies with device', 'Varies with device']\n",
      "3910\n",
      "\n",
      "\n"
     ]
    }
   ],
   "source": [
    "for row in google_apps_data:\n",
    "    name = row[0]\n",
    "    if name == 'Instagram':\n",
    "        print(row)\n",
    "        print (google_apps_data.index(row))\n",
    "        print ('\\n')"
   ]
  },
  {
   "cell_type": "markdown",
   "metadata": {},
   "source": [
    "Looping through the google data set ignoring the header and assign the app name and the number of reviews to variables **name** and **n_reviews** respectively. An empty dictionary **reviews_max** is created where each key is a unique app name and the corresponding dictionary value is the highest number of reviews of that app using **if** and **elif** statements.\n",
    "\n",
    "After we remove the duplicates, **9659 rows** is what is left."
   ]
  },
  {
   "cell_type": "code",
   "execution_count": 13,
   "metadata": {},
   "outputs": [
    {
     "name": "stdout",
     "output_type": "stream",
     "text": [
      "9659\n"
     ]
    }
   ],
   "source": [
    "reviews_max = {}\n",
    "\n",
    "for apps in google_apps_data[1:]:\n",
    "    name = apps[0]\n",
    "    n_reviews = float(apps[3])\n",
    "    if name in reviews_max and reviews_max[name] < n_reviews:\n",
    "        reviews_max[name] = n_reviews\n",
    "    elif name not in reviews_max:\n",
    "        reviews_max[name] = n_reviews\n",
    "\n",
    "print(len(reviews_max))"
   ]
  },
  {
   "cell_type": "markdown",
   "metadata": {},
   "source": [
    "This supplementary condition is added to account for those cases where the highest number of reviews of a duplicate app is the same for more than one entry (for example, the Box app has three entries, and the number of reviews is the same)."
   ]
  },
  {
   "cell_type": "code",
   "execution_count": 14,
   "metadata": {},
   "outputs": [],
   "source": [
    "android_clean = []\n",
    "already_added = []\n",
    "\n",
    "for apps in google_apps_data[1:]:\n",
    "    name = apps[0]\n",
    "    n_reviews = float(apps[3])\n",
    "    \n",
    "    if (reviews_max[name] == n_reviews) and (name not in already_added):\n",
    "        android_clean.append(apps)\n",
    "        already_added.append(name)\n"
   ]
  },
  {
   "cell_type": "code",
   "execution_count": 15,
   "metadata": {},
   "outputs": [
    {
     "name": "stdout",
     "output_type": "stream",
     "text": [
      "['Photo Editor & Candy Camera & Grid & ScrapBook', 'ART_AND_DESIGN', '4.1', '159', '19M', '10,000+', 'Free', '0', 'Everyone', 'Art & Design', 'January 7, 2018', '1.0.0', '4.0.3 and up']\n",
      "\n",
      "\n",
      "['U Launcher Lite – FREE Live Cool Themes, Hide Apps', 'ART_AND_DESIGN', '4.7', '87510', '8.7M', '5,000,000+', 'Free', '0', 'Everyone', 'Art & Design', 'August 1, 2018', '1.2.4', '4.0.3 and up']\n",
      "\n",
      "\n",
      "['Sketch - Draw & Paint', 'ART_AND_DESIGN', '4.5', '215644', '25M', '50,000,000+', 'Free', '0', 'Teen', 'Art & Design', 'June 8, 2018', 'Varies with device', '4.2 and up']\n",
      "\n",
      "\n",
      "Number of rows: 9659\n",
      "Number of columns: 13\n"
     ]
    }
   ],
   "source": [
    "explore_data(android_clean,0,3, True)\n"
   ]
  },
  {
   "cell_type": "markdown",
   "metadata": {},
   "source": [
    "Exploring the data long enough, both data sets have apps with names that suggest they are not directed toward an English-speaking audience.\n",
    "\n",
    "Each character in a string has a corresponding number associated with it. For instance, the corresponding number for character 'a' is 97, character 'A' is 65, and character '爱' is 29,233. We can get the corresponding number of each character using the **ord()** built-in function\n",
    "\n",
    "**The numbers corresponding to the characters commonly used in an English text are all in the range 0 to 127, according to the ASCII (American Standard Code for Information Interchange) system.** Based on this number range, we can build a function that detects whether a character belongs to the set of common English characters or not. **If the number is equal to or less than 127, then the character belongs to the set of common English characters.**\n",
    "\n",
    "To minimize the impact of data loss, the code below will only remove an app if its name has more than three characters with corresponding numbers falling outside the ASCII range. This means all English apps with up to three emoji or other special characters will still be labeled as English."
   ]
  },
  {
   "cell_type": "code",
   "execution_count": 16,
   "metadata": {},
   "outputs": [],
   "source": [
    "def english(string):\n",
    "    non_ascii = 0\n",
    "    for character in string:\n",
    "        if ord(character) > 127:\n",
    "            non_ascii += 1\n",
    "            \n",
    "        if non_ascii > 3:\n",
    "            return False\n",
    "    \n",
    "    return True"
   ]
  },
  {
   "cell_type": "code",
   "execution_count": 17,
   "metadata": {},
   "outputs": [],
   "source": [
    "google_english = []\n",
    "apple_english = []\n",
    "\n",
    "for row in android_clean:\n",
    "    name = row[0] \n",
    "    if english(name):\n",
    "        google_english.append(row)\n",
    "\n",
    "for row in apple_apps_data[1:]:\n",
    "    name = row[1] \n",
    "    if english(name):\n",
    "        apple_english.append(row)"
   ]
  },
  {
   "cell_type": "code",
   "execution_count": 18,
   "metadata": {},
   "outputs": [
    {
     "name": "stdout",
     "output_type": "stream",
     "text": [
      "['Photo Editor & Candy Camera & Grid & ScrapBook', 'ART_AND_DESIGN', '4.1', '159', '19M', '10,000+', 'Free', '0', 'Everyone', 'Art & Design', 'January 7, 2018', '1.0.0', '4.0.3 and up']\n",
      "\n",
      "\n",
      "['U Launcher Lite – FREE Live Cool Themes, Hide Apps', 'ART_AND_DESIGN', '4.7', '87510', '8.7M', '5,000,000+', 'Free', '0', 'Everyone', 'Art & Design', 'August 1, 2018', '1.2.4', '4.0.3 and up']\n",
      "\n",
      "\n",
      "['Sketch - Draw & Paint', 'ART_AND_DESIGN', '4.5', '215644', '25M', '50,000,000+', 'Free', '0', 'Teen', 'Art & Design', 'June 8, 2018', 'Varies with device', '4.2 and up']\n",
      "\n",
      "\n",
      "Number of rows: 9614\n",
      "Number of columns: 13\n",
      "\n",
      "\n",
      "['284882215', 'Facebook', '389879808', 'USD', '0.0', '2974676', '212', '3.5', '3.5', '95.0', '4+', 'Social Networking', '37', '1', '29', '1']\n",
      "\n",
      "\n",
      "['389801252', 'Instagram', '113954816', 'USD', '0.0', '2161558', '1289', '4.5', '4.0', '10.23', '12+', 'Photo & Video', '37', '0', '29', '1']\n",
      "\n",
      "\n",
      "['529479190', 'Clash of Clans', '116476928', 'USD', '0.0', '2130805', '579', '4.5', '4.5', '9.24.12', '9+', 'Games', '38', '5', '18', '1']\n",
      "\n",
      "\n",
      "Number of rows: 6183\n",
      "Number of columns: 16\n"
     ]
    }
   ],
   "source": [
    "explore_data(google_english,0,3, True)\n",
    "print( '\\n')\n",
    "explore_data(apple_english,0,3, True)"
   ]
  },
  {
   "cell_type": "code",
   "execution_count": 19,
   "metadata": {},
   "outputs": [
    {
     "name": "stdout",
     "output_type": "stream",
     "text": [
      "['App', 'Category', 'Rating', 'Reviews', 'Size', 'Installs', 'Type', 'Price', 'Content Rating', 'Genres', 'Last Updated', 'Current Ver', 'Android Ver']\n",
      "\n",
      "\n",
      "['Photo Editor & Candy Camera & Grid & ScrapBook', 'ART_AND_DESIGN', '4.1', '159', '19M', '10,000+', 'Free', '0', 'Everyone', 'Art & Design', 'January 7, 2018', '1.0.0', '4.0.3 and up']\n",
      "\n",
      "\n",
      "['id', 'track_name', 'size_bytes', 'currency', 'price', 'rating_count_tot', 'rating_count_ver', 'user_rating', 'user_rating_ver', 'ver', 'cont_rating', 'prime_genre', 'sup_devices.num', 'ipadSc_urls.num', 'lang.num', 'vpp_lic']\n",
      "\n",
      "\n",
      "['284882215', 'Facebook', '389879808', 'USD', '0.0', '2974676', '212', '3.5', '3.5', '95.0', '4+', 'Social Networking', '37', '1', '29', '1']\n"
     ]
    }
   ],
   "source": [
    "print(google_apps_data[0]) #price is index 4\n",
    "print('\\n')\n",
    "print(google_english[0])\n",
    "print('\\n')\n",
    "print(apple_apps_data[0])  #price is index 7\n",
    "print('\\n')\n",
    "print(apple_english[0])"
   ]
  },
  {
   "cell_type": "code",
   "execution_count": 20,
   "metadata": {},
   "outputs": [
    {
     "name": "stdout",
     "output_type": "stream",
     "text": [
      "8864\n",
      "3222\n"
     ]
    }
   ],
   "source": [
    "free_google_app = []\n",
    "free_apple_app = []\n",
    "for free_app in google_english:\n",
    "    price = str(free_app[7])\n",
    "    if price == '0':\n",
    "        free_google_app.append(free_app)\n",
    "        \n",
    "for free_app in apple_english:\n",
    "    price = str(free_app[4])\n",
    "    if price == '0.0':\n",
    "        free_apple_app.append(free_app)\n",
    "\n",
    "print(len(free_google_app))\n",
    "print(len(free_apple_app))"
   ]
  },
  {
   "cell_type": "markdown",
   "metadata": {},
   "source": [
    "The aim is to determine the kinds of apps that are likely to attract more users because our revenue is highly influenced by the number of people using our apps.\n",
    "\n",
    "To minimize risks and overhead, the validation strategy for the app idea is comprised of three steps:\n",
    "\n",
    "* Build a minimal Android version of the app, and add it to Google Play.\n",
    "* If the app has a good response from users, we develop it further.\n",
    "* If the app is profitable after six months, we build an iOS version of the app and add it to the App Store.\n",
    "\n",
    "Because our end goal is to add the app on both Google Play and the App Store, there is a need to find app profiles that are successful on both markets. For instance, a profile that works well for both markets might be a productivity app that makes use of gamification.\n",
    "\n",
    "In the code below, we created a function **freq_table** with arguments **dataset** and **index**, to allow for the creation of a percentage frequency table "
   ]
  },
  {
   "cell_type": "code",
   "execution_count": 21,
   "metadata": {},
   "outputs": [],
   "source": [
    "def freq_table(dataset, index):\n",
    "    freq = {}\n",
    "    total = 0 \n",
    "    \n",
    "    for row in dataset:\n",
    "        total += 1\n",
    "        column = row[index]\n",
    "        if column in freq:\n",
    "            freq[column] += 1\n",
    "        else:\n",
    "            freq[column] = 1\n",
    "#     return freq\n",
    "    freq_percent = {}\n",
    "    for key in freq:\n",
    "        percent = (freq[key]/total) * 100\n",
    "        freq_percent[key] = percent\n",
    "#     print (\"TOTAL:\", total)\n",
    "#     print('\\n')\n",
    "    return freq_percent"
   ]
  },
  {
   "cell_type": "code",
   "execution_count": 22,
   "metadata": {},
   "outputs": [
    {
     "data": {
      "text/plain": [
       "{'Art & Design': 0.5979241877256317,\n",
       " 'Art & Design;Creativity': 0.06768953068592057,\n",
       " 'Auto & Vehicles': 0.9250902527075812,\n",
       " 'Beauty': 0.5979241877256317,\n",
       " 'Books & Reference': 2.1435018050541514,\n",
       " 'Business': 4.591606498194946,\n",
       " 'Comics': 0.6092057761732852,\n",
       " 'Comics;Creativity': 0.01128158844765343,\n",
       " 'Communication': 3.2378158844765346,\n",
       " 'Dating': 1.861462093862816,\n",
       " 'Education': 5.347472924187725,\n",
       " 'Education;Creativity': 0.04512635379061372,\n",
       " 'Education;Education': 0.33844765342960287,\n",
       " 'Education;Pretend Play': 0.056407942238267145,\n",
       " 'Education;Brain Games': 0.033844765342960284,\n",
       " 'Entertainment': 6.069494584837545,\n",
       " 'Entertainment;Brain Games': 0.078971119133574,\n",
       " 'Entertainment;Creativity': 0.033844765342960284,\n",
       " 'Entertainment;Music & Video': 0.16922382671480143,\n",
       " 'Events': 0.7107400722021661,\n",
       " 'Finance': 3.7003610108303246,\n",
       " 'Food & Drink': 1.2409747292418771,\n",
       " 'Health & Fitness': 3.0798736462093865,\n",
       " 'House & Home': 0.8235559566787004,\n",
       " 'Libraries & Demo': 0.9363718411552346,\n",
       " 'Lifestyle': 3.892148014440433,\n",
       " 'Lifestyle;Pretend Play': 0.01128158844765343,\n",
       " 'Card': 0.45126353790613716,\n",
       " 'Arcade': 1.8501805054151623,\n",
       " 'Puzzle': 1.128158844765343,\n",
       " 'Racing': 0.9927797833935018,\n",
       " 'Sports': 3.463447653429603,\n",
       " 'Casual': 1.7599277978339352,\n",
       " 'Simulation': 2.0419675090252705,\n",
       " 'Adventure': 0.6768953068592057,\n",
       " 'Trivia': 0.41741877256317694,\n",
       " 'Action': 3.1024368231046933,\n",
       " 'Word': 0.2594765342960289,\n",
       " 'Role Playing': 0.9363718411552346,\n",
       " 'Strategy': 0.9138086642599278,\n",
       " 'Board': 0.3835740072202166,\n",
       " 'Music': 0.2030685920577617,\n",
       " 'Action;Action & Adventure': 0.10153429602888085,\n",
       " 'Casual;Brain Games': 0.13537906137184114,\n",
       " 'Educational;Creativity': 0.033844765342960284,\n",
       " 'Puzzle;Brain Games': 0.16922382671480143,\n",
       " 'Educational;Education': 0.39485559566787,\n",
       " 'Casual;Pretend Play': 0.236913357400722,\n",
       " 'Educational;Brain Games': 0.06768953068592057,\n",
       " 'Art & Design;Pretend Play': 0.01128158844765343,\n",
       " 'Educational;Pretend Play': 0.09025270758122744,\n",
       " 'Entertainment;Education': 0.01128158844765343,\n",
       " 'Casual;Education': 0.02256317689530686,\n",
       " 'Casual;Creativity': 0.06768953068592057,\n",
       " 'Casual;Action & Adventure': 0.13537906137184114,\n",
       " 'Music;Music & Video': 0.02256317689530686,\n",
       " 'Arcade;Pretend Play': 0.01128158844765343,\n",
       " 'Adventure;Action & Adventure': 0.033844765342960284,\n",
       " 'Role Playing;Action & Adventure': 0.033844765342960284,\n",
       " 'Simulation;Pretend Play': 0.02256317689530686,\n",
       " 'Puzzle;Creativity': 0.02256317689530686,\n",
       " 'Simulation;Action & Adventure': 0.078971119133574,\n",
       " 'Racing;Action & Adventure': 0.16922382671480143,\n",
       " 'Sports;Action & Adventure': 0.02256317689530686,\n",
       " 'Educational;Action & Adventure': 0.033844765342960284,\n",
       " 'Arcade;Action & Adventure': 0.12409747292418773,\n",
       " 'Entertainment;Action & Adventure': 0.033844765342960284,\n",
       " 'Art & Design;Action & Adventure': 0.01128158844765343,\n",
       " 'Puzzle;Action & Adventure': 0.033844765342960284,\n",
       " 'Education;Action & Adventure': 0.033844765342960284,\n",
       " 'Strategy;Action & Adventure': 0.01128158844765343,\n",
       " 'Music & Audio;Music & Video': 0.01128158844765343,\n",
       " 'Health & Fitness;Education': 0.01128158844765343,\n",
       " 'Board;Action & Adventure': 0.02256317689530686,\n",
       " 'Board;Brain Games': 0.078971119133574,\n",
       " 'Casual;Music & Video': 0.01128158844765343,\n",
       " 'Education;Music & Video': 0.033844765342960284,\n",
       " 'Role Playing;Pretend Play': 0.04512635379061372,\n",
       " 'Entertainment;Pretend Play': 0.02256317689530686,\n",
       " 'Medical': 3.531137184115524,\n",
       " 'Social': 2.6624548736462095,\n",
       " 'Shopping': 2.2450361010830324,\n",
       " 'Photography': 2.944494584837545,\n",
       " 'Travel & Local': 2.3240072202166067,\n",
       " 'Travel & Local;Action & Adventure': 0.01128158844765343,\n",
       " 'Tools': 8.449909747292418,\n",
       " 'Tools;Education': 0.01128158844765343,\n",
       " 'Personalization': 3.3167870036101084,\n",
       " 'Productivity': 3.892148014440433,\n",
       " 'Parenting': 0.4963898916967509,\n",
       " 'Parenting;Music & Video': 0.06768953068592057,\n",
       " 'Parenting;Education': 0.078971119133574,\n",
       " 'Parenting;Brain Games': 0.01128158844765343,\n",
       " 'Weather': 0.8009927797833934,\n",
       " 'Video Players & Editors': 1.7712093862815883,\n",
       " 'Video Players & Editors;Music & Video': 0.02256317689530686,\n",
       " 'Video Players & Editors;Creativity': 0.01128158844765343,\n",
       " 'News & Magazines': 2.7978339350180503,\n",
       " 'Maps & Navigation': 1.3989169675090252,\n",
       " 'Health & Fitness;Action & Adventure': 0.01128158844765343,\n",
       " 'Educational': 0.3722924187725632,\n",
       " 'Casino': 0.42870036101083037,\n",
       " 'Trivia;Education': 0.01128158844765343,\n",
       " 'Lifestyle;Education': 0.01128158844765343,\n",
       " 'Card;Action & Adventure': 0.01128158844765343,\n",
       " 'Books & Reference;Education': 0.01128158844765343,\n",
       " 'Simulation;Education': 0.01128158844765343,\n",
       " 'Puzzle;Education': 0.01128158844765343,\n",
       " 'Adventure;Education': 0.01128158844765343,\n",
       " 'Role Playing;Brain Games': 0.01128158844765343,\n",
       " 'Strategy;Education': 0.01128158844765343,\n",
       " 'Racing;Pretend Play': 0.01128158844765343,\n",
       " 'Communication;Creativity': 0.01128158844765343,\n",
       " 'Strategy;Creativity': 0.01128158844765343}"
      ]
     },
     "execution_count": 22,
     "metadata": {},
     "output_type": "execute_result"
    }
   ],
   "source": [
    "freq_table(free_google_app,9)"
   ]
  },
  {
   "cell_type": "markdown",
   "metadata": {},
   "source": [
    "The function named `display_table()`, which will be combined with the `freq_table` function . The `display_table()` function does the following:\n",
    "\n",
    "* Takes in two parameters: `dataset` and `index`. `dataset` is expected to be a list of lists, and index is expected to be an integer.\n",
    "* Generates a frequency table using the `freq_table()` function.\n",
    "* Transforms the frequency table into a list of tuples, then sorts the list in a descending order.\n",
    "* Prints the entries of the frequency table in descending order."
   ]
  },
  {
   "cell_type": "code",
   "execution_count": 23,
   "metadata": {},
   "outputs": [],
   "source": [
    "def display_table(dataset, index):\n",
    "    table = freq_table(dataset, index)\n",
    "    table_display = []\n",
    "    for key in table:\n",
    "        key_val_as_tuple = (table[key], key)\n",
    "        table_display.append(key_val_as_tuple)\n",
    "\n",
    "    table_sorted = sorted(table_display, reverse = True)\n",
    "    for entry in table_sorted:\n",
    "        print(entry[1], ':', entry[0])"
   ]
  },
  {
   "cell_type": "code",
   "execution_count": 24,
   "metadata": {},
   "outputs": [
    {
     "name": "stdout",
     "output_type": "stream",
     "text": [
      "Games : 58.16263190564867\n",
      "Entertainment : 7.883302296710118\n",
      "Photo & Video : 4.9658597144630665\n",
      "Education : 3.662321539416512\n",
      "Social Networking : 3.2898820608317814\n",
      "Shopping : 2.60707635009311\n",
      "Utilities : 2.5139664804469275\n",
      "Sports : 2.1415270018621975\n",
      "Music : 2.0484171322160147\n",
      "Health & Fitness : 2.0173805090006205\n",
      "Productivity : 1.7380509000620732\n",
      "Lifestyle : 1.5828677839851024\n",
      "News : 1.3345747982619491\n",
      "Travel : 1.2414649286157666\n",
      "Finance : 1.1173184357541899\n",
      "Weather : 0.8690254500310366\n",
      "Food & Drink : 0.8069522036002483\n",
      "Reference : 0.5586592178770949\n",
      "Business : 0.5276225946617008\n",
      "Book : 0.4345127250155183\n",
      "Navigation : 0.186219739292365\n",
      "Medical : 0.186219739292365\n",
      "Catalogs : 0.12414649286157665\n"
     ]
    }
   ],
   "source": [
    "display_table(free_apple_app,-5) #This is the genre for Apple"
   ]
  },
  {
   "cell_type": "markdown",
   "metadata": {},
   "source": [
    "The most common genre for apple as seen above is **Games** which takes more than half (58.16%) of the genres for the English-speaking users and the runner up is **Entertainment** with 7.88%. In third place is **Photo & Video**, **Education** in fourth place with 3.66% followed by **Social Networking** with 3.29%\n",
    "\n",
    "The general impression for the App Store is that most apps that are designed for fun (games, entertainment, photo and video, social networking, sports, music, etc.), while apps with practical purposes (education, shopping, utilities, productivity, lifestyle, etc.) are more rare. However, the fact that fun apps are the most numerous doesn't also imply that they also have the greatest number of users — the demand might not be the same as the offer."
   ]
  },
  {
   "cell_type": "code",
   "execution_count": 25,
   "metadata": {},
   "outputs": [
    {
     "name": "stdout",
     "output_type": "stream",
     "text": [
      "FAMILY : 18.907942238267147\n",
      "GAME : 9.724729241877256\n",
      "TOOLS : 8.461191335740072\n",
      "BUSINESS : 4.591606498194946\n",
      "LIFESTYLE : 3.9034296028880866\n",
      "PRODUCTIVITY : 3.892148014440433\n",
      "FINANCE : 3.7003610108303246\n",
      "MEDICAL : 3.531137184115524\n",
      "SPORTS : 3.395758122743682\n",
      "PERSONALIZATION : 3.3167870036101084\n",
      "COMMUNICATION : 3.2378158844765346\n",
      "HEALTH_AND_FITNESS : 3.0798736462093865\n",
      "PHOTOGRAPHY : 2.944494584837545\n",
      "NEWS_AND_MAGAZINES : 2.7978339350180503\n",
      "SOCIAL : 2.6624548736462095\n",
      "TRAVEL_AND_LOCAL : 2.33528880866426\n",
      "SHOPPING : 2.2450361010830324\n",
      "BOOKS_AND_REFERENCE : 2.1435018050541514\n",
      "DATING : 1.861462093862816\n",
      "VIDEO_PLAYERS : 1.7937725631768955\n",
      "MAPS_AND_NAVIGATION : 1.3989169675090252\n",
      "FOOD_AND_DRINK : 1.2409747292418771\n",
      "EDUCATION : 1.1620036101083033\n",
      "ENTERTAINMENT : 0.9589350180505415\n",
      "LIBRARIES_AND_DEMO : 0.9363718411552346\n",
      "AUTO_AND_VEHICLES : 0.9250902527075812\n",
      "HOUSE_AND_HOME : 0.8235559566787004\n",
      "WEATHER : 0.8009927797833934\n",
      "EVENTS : 0.7107400722021661\n",
      "PARENTING : 0.6543321299638989\n",
      "ART_AND_DESIGN : 0.6430505415162455\n",
      "COMICS : 0.6204873646209386\n",
      "BEAUTY : 0.5979241877256317\n"
     ]
    }
   ],
   "source": [
    "display_table(free_google_app,1) #This is the category"
   ]
  },
  {
   "cell_type": "markdown",
   "metadata": {},
   "source": [
    "The landscape seems significantly different on Google Play: there are not that many apps designed for fun, and it seems that a good number of apps are designed for practical purposes (family, tools, business, lifestyle, productivity, etc.). However, if we investigate this further, we can see that the family category (which accounts for almost 19% of the apps) means mostly [games for kids](https://play.google.com/store/apps/category/FAMILY?hl=en)."
   ]
  },
  {
   "cell_type": "markdown",
   "metadata": {},
   "source": [
    "Even so, practical apps seem to have a better representation on Google Play compared to App Store. "
   ]
  },
  {
   "cell_type": "code",
   "execution_count": 26,
   "metadata": {},
   "outputs": [
    {
     "name": "stdout",
     "output_type": "stream",
     "text": [
      "Tools : 8.449909747292418\n",
      "Entertainment : 6.069494584837545\n",
      "Education : 5.347472924187725\n",
      "Business : 4.591606498194946\n",
      "Productivity : 3.892148014440433\n",
      "Lifestyle : 3.892148014440433\n",
      "Finance : 3.7003610108303246\n",
      "Medical : 3.531137184115524\n",
      "Sports : 3.463447653429603\n",
      "Personalization : 3.3167870036101084\n",
      "Communication : 3.2378158844765346\n",
      "Action : 3.1024368231046933\n",
      "Health & Fitness : 3.0798736462093865\n",
      "Photography : 2.944494584837545\n",
      "News & Magazines : 2.7978339350180503\n",
      "Social : 2.6624548736462095\n",
      "Travel & Local : 2.3240072202166067\n",
      "Shopping : 2.2450361010830324\n",
      "Books & Reference : 2.1435018050541514\n",
      "Simulation : 2.0419675090252705\n",
      "Dating : 1.861462093862816\n",
      "Arcade : 1.8501805054151623\n",
      "Video Players & Editors : 1.7712093862815883\n",
      "Casual : 1.7599277978339352\n",
      "Maps & Navigation : 1.3989169675090252\n",
      "Food & Drink : 1.2409747292418771\n",
      "Puzzle : 1.128158844765343\n",
      "Racing : 0.9927797833935018\n",
      "Role Playing : 0.9363718411552346\n",
      "Libraries & Demo : 0.9363718411552346\n",
      "Auto & Vehicles : 0.9250902527075812\n",
      "Strategy : 0.9138086642599278\n",
      "House & Home : 0.8235559566787004\n",
      "Weather : 0.8009927797833934\n",
      "Events : 0.7107400722021661\n",
      "Adventure : 0.6768953068592057\n",
      "Comics : 0.6092057761732852\n",
      "Beauty : 0.5979241877256317\n",
      "Art & Design : 0.5979241877256317\n",
      "Parenting : 0.4963898916967509\n",
      "Card : 0.45126353790613716\n",
      "Casino : 0.42870036101083037\n",
      "Trivia : 0.41741877256317694\n",
      "Educational;Education : 0.39485559566787\n",
      "Board : 0.3835740072202166\n",
      "Educational : 0.3722924187725632\n",
      "Education;Education : 0.33844765342960287\n",
      "Word : 0.2594765342960289\n",
      "Casual;Pretend Play : 0.236913357400722\n",
      "Music : 0.2030685920577617\n",
      "Racing;Action & Adventure : 0.16922382671480143\n",
      "Puzzle;Brain Games : 0.16922382671480143\n",
      "Entertainment;Music & Video : 0.16922382671480143\n",
      "Casual;Brain Games : 0.13537906137184114\n",
      "Casual;Action & Adventure : 0.13537906137184114\n",
      "Arcade;Action & Adventure : 0.12409747292418773\n",
      "Action;Action & Adventure : 0.10153429602888085\n",
      "Educational;Pretend Play : 0.09025270758122744\n",
      "Simulation;Action & Adventure : 0.078971119133574\n",
      "Parenting;Education : 0.078971119133574\n",
      "Entertainment;Brain Games : 0.078971119133574\n",
      "Board;Brain Games : 0.078971119133574\n",
      "Parenting;Music & Video : 0.06768953068592057\n",
      "Educational;Brain Games : 0.06768953068592057\n",
      "Casual;Creativity : 0.06768953068592057\n",
      "Art & Design;Creativity : 0.06768953068592057\n",
      "Education;Pretend Play : 0.056407942238267145\n",
      "Role Playing;Pretend Play : 0.04512635379061372\n",
      "Education;Creativity : 0.04512635379061372\n",
      "Role Playing;Action & Adventure : 0.033844765342960284\n",
      "Puzzle;Action & Adventure : 0.033844765342960284\n",
      "Entertainment;Creativity : 0.033844765342960284\n",
      "Entertainment;Action & Adventure : 0.033844765342960284\n",
      "Educational;Creativity : 0.033844765342960284\n",
      "Educational;Action & Adventure : 0.033844765342960284\n",
      "Education;Music & Video : 0.033844765342960284\n",
      "Education;Brain Games : 0.033844765342960284\n",
      "Education;Action & Adventure : 0.033844765342960284\n",
      "Adventure;Action & Adventure : 0.033844765342960284\n",
      "Video Players & Editors;Music & Video : 0.02256317689530686\n",
      "Sports;Action & Adventure : 0.02256317689530686\n",
      "Simulation;Pretend Play : 0.02256317689530686\n",
      "Puzzle;Creativity : 0.02256317689530686\n",
      "Music;Music & Video : 0.02256317689530686\n",
      "Entertainment;Pretend Play : 0.02256317689530686\n",
      "Casual;Education : 0.02256317689530686\n",
      "Board;Action & Adventure : 0.02256317689530686\n",
      "Video Players & Editors;Creativity : 0.01128158844765343\n",
      "Trivia;Education : 0.01128158844765343\n",
      "Travel & Local;Action & Adventure : 0.01128158844765343\n",
      "Tools;Education : 0.01128158844765343\n",
      "Strategy;Education : 0.01128158844765343\n",
      "Strategy;Creativity : 0.01128158844765343\n",
      "Strategy;Action & Adventure : 0.01128158844765343\n",
      "Simulation;Education : 0.01128158844765343\n",
      "Role Playing;Brain Games : 0.01128158844765343\n",
      "Racing;Pretend Play : 0.01128158844765343\n",
      "Puzzle;Education : 0.01128158844765343\n",
      "Parenting;Brain Games : 0.01128158844765343\n",
      "Music & Audio;Music & Video : 0.01128158844765343\n",
      "Lifestyle;Pretend Play : 0.01128158844765343\n",
      "Lifestyle;Education : 0.01128158844765343\n",
      "Health & Fitness;Education : 0.01128158844765343\n",
      "Health & Fitness;Action & Adventure : 0.01128158844765343\n",
      "Entertainment;Education : 0.01128158844765343\n",
      "Communication;Creativity : 0.01128158844765343\n",
      "Comics;Creativity : 0.01128158844765343\n",
      "Casual;Music & Video : 0.01128158844765343\n",
      "Card;Action & Adventure : 0.01128158844765343\n",
      "Books & Reference;Education : 0.01128158844765343\n",
      "Art & Design;Pretend Play : 0.01128158844765343\n",
      "Art & Design;Action & Adventure : 0.01128158844765343\n",
      "Arcade;Pretend Play : 0.01128158844765343\n",
      "Adventure;Education : 0.01128158844765343\n"
     ]
    }
   ],
   "source": [
    "display_table(free_google_app,-4) #This is the genre"
   ]
  },
  {
   "cell_type": "markdown",
   "metadata": {},
   "source": [
    "The difference between the Genres and the Category columns is not crystal clear, but one thing we can notice is that the Genres column has more categories. We're only looking for the bigger picture at the moment, so we'll only work with the Category column moving forward.\n",
    "\n",
    "Up to this point, we found that the App Store is dominated by apps designed for fun, while Google Play shows a more balanced landscape of both practical and for-fun apps. Now we'd like to get an idea about the kind of apps that have most users.\n",
    "\n",
    "One way to find out what genres are the most popular (have the most users) is to calculate the average number of installs for each app genre. For the Google Play data set, we can find this information in the `Installs` column, but this information is missing for the App Store data set. As a workaround, we'll take the total number of user ratings as a proxy, which we can find in the `rating_count_tot app`.\n",
    "\n",
    "Let's start with calculating the average number of user ratings per app genre on the App Store. To do that, we'll need to:\n",
    "\n",
    "* Isolate the apps of each genre.\n",
    "* Sum up the user ratings for the apps of that genre.\n",
    "* Divide the sum by the number of apps belonging to that genre (not by the total number of apps).\n",
    "\n",
    "To calculate the average number of user ratings for each genre, we'll use a for loop inside of another for loop - **Nested Loops**."
   ]
  },
  {
   "cell_type": "code",
   "execution_count": 27,
   "metadata": {},
   "outputs": [
    {
     "name": "stdout",
     "output_type": "stream",
     "text": [
      "Social Networking : 71548.34905660378\n",
      "Photo & Video : 28441.54375\n",
      "Games : 22788.6696905016\n",
      "Music : 57326.530303030304\n",
      "Reference : 74942.11111111111\n",
      "Health & Fitness : 23298.015384615384\n",
      "Weather : 52279.892857142855\n",
      "Utilities : 18684.456790123455\n",
      "Travel : 28243.8\n",
      "Shopping : 26919.690476190477\n",
      "News : 21248.023255813954\n",
      "Navigation : 86090.33333333333\n",
      "Lifestyle : 16485.764705882353\n",
      "Entertainment : 14029.830708661417\n",
      "Food & Drink : 33333.92307692308\n",
      "Sports : 23008.898550724636\n",
      "Book : 39758.5\n",
      "Finance : 31467.944444444445\n",
      "Education : 7003.983050847458\n",
      "Productivity : 21028.410714285714\n",
      "Business : 7491.117647058823\n",
      "Catalogs : 4004.0\n",
      "Medical : 612.0\n"
     ]
    }
   ],
   "source": [
    "app_store = freq_table(free_apple_app,-5)\n",
    "\n",
    "for genre in app_store:\n",
    "    total = 0 # sum of user ratings\n",
    "    len_genre = 0 # number of apps specific to each genre\n",
    "    for row in free_apple_app:\n",
    "        genre_app = row[-5]\n",
    "        \n",
    "        if genre_app == genre:\n",
    "            rating = float(row[5])\n",
    "            total += rating\n",
    "            len_genre +=1\n",
    "            \n",
    "    average_user_rating = total/len_genre\n",
    "    print(genre, ':', average_user_rating)"
   ]
  },
  {
   "cell_type": "markdown",
   "metadata": {},
   "source": [
    "On average on the **App Store**, navigation apps have the highest number of user reviews"
   ]
  },
  {
   "cell_type": "code",
   "execution_count": 28,
   "metadata": {},
   "outputs": [
    {
     "name": "stdout",
     "output_type": "stream",
     "text": [
      "ART_AND_DESIGN : 1986335.0877192982\n",
      "AUTO_AND_VEHICLES : 647317.8170731707\n",
      "BEAUTY : 513151.88679245283\n",
      "BOOKS_AND_REFERENCE : 8767811.894736841\n",
      "BUSINESS : 1712290.1474201474\n",
      "COMICS : 817657.2727272727\n",
      "COMMUNICATION : 38456119.167247385\n",
      "DATING : 854028.8303030303\n",
      "EDUCATION : 1833495.145631068\n",
      "ENTERTAINMENT : 11640705.88235294\n",
      "EVENTS : 253542.22222222222\n",
      "FINANCE : 1387692.475609756\n",
      "FOOD_AND_DRINK : 1924897.7363636363\n",
      "HEALTH_AND_FITNESS : 4188821.9853479853\n",
      "HOUSE_AND_HOME : 1331540.5616438356\n",
      "LIBRARIES_AND_DEMO : 638503.734939759\n",
      "LIFESTYLE : 1437816.2687861272\n",
      "GAME : 15588015.603248259\n",
      "FAMILY : 3695641.8198090694\n",
      "MEDICAL : 120550.61980830671\n",
      "SOCIAL : 23253652.127118643\n",
      "SHOPPING : 7036877.311557789\n",
      "PHOTOGRAPHY : 17840110.40229885\n",
      "SPORTS : 3638640.1428571427\n",
      "TRAVEL_AND_LOCAL : 13984077.710144928\n",
      "TOOLS : 10801391.298666667\n",
      "PERSONALIZATION : 5201482.6122448975\n",
      "PRODUCTIVITY : 16787331.344927534\n",
      "PARENTING : 542603.6206896552\n",
      "WEATHER : 5074486.197183099\n",
      "VIDEO_PLAYERS : 24727872.452830188\n",
      "NEWS_AND_MAGAZINES : 9549178.467741935\n",
      "MAPS_AND_NAVIGATION : 4056941.7741935486\n"
     ]
    }
   ],
   "source": [
    "google_store = freq_table(free_google_app,1)\n",
    "\n",
    "for category in google_store:\n",
    "    total = 0\n",
    "    len_category = 0\n",
    "    for row in free_google_app:\n",
    "        category_app = row[1]\n",
    "        if category_app == category:\n",
    "            n_installs = row[5]\n",
    "            #the \".replace()\" function is used to remove strings in the data\n",
    "            n_installs = n_installs.replace(',' , '') \n",
    "            n_installs = n_installs.replace('+' , '')\n",
    "            total += float(n_installs)\n",
    "            len_category += 1\n",
    "            \n",
    "    average_installs = total/len_category\n",
    "    print(category, ':', average_installs)\n",
    "    "
   ]
  },
  {
   "cell_type": "markdown",
   "metadata": {},
   "source": [
    "On average for the **google play store**, communication apps have the most installs: 38,456,119"
   ]
  },
  {
   "cell_type": "markdown",
   "metadata": {},
   "source": [
    "In conclusion, from the data analysis of both stores, taking a very popular book (perhaps a more recent book) and turning it into an app could be profitable for both the Google Play and the App Store market. Some special features besides the raw version of the book to help booster its reach, this might include daily quotes from the book, an audio version of the book, quizzes on the book, a forum where people can discuss the book, etc"
   ]
  }
 ],
 "metadata": {
  "kernelspec": {
   "display_name": "Python 3",
   "language": "python",
   "name": "python3"
  },
  "language_info": {
   "codemirror_mode": {
    "name": "ipython",
    "version": 3
   },
   "file_extension": ".py",
   "mimetype": "text/x-python",
   "name": "python",
   "nbconvert_exporter": "python",
   "pygments_lexer": "ipython3",
   "version": "3.7.3"
  }
 },
 "nbformat": 4,
 "nbformat_minor": 2
}
